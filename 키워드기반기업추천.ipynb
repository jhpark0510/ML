{
 "cells": [
  {
   "cell_type": "code",
   "execution_count": 2,
   "id": "a0a82952-81b1-4770-98f7-0f6c2990f162",
   "metadata": {},
   "outputs": [
    {
     "name": "stdout",
     "output_type": "stream",
     "text": [
      "기업 추천 프로그램입니다.\n"
     ]
    },
    {
     "name": "stdin",
     "output_type": "stream",
     "text": [
      "첫 번째 장점 키워드를 입력하세요 (예: 안정성):  안정성\n",
      "두 번째 장점 키워드를 입력하세요 (예: 복지):  연봉\n"
     ]
    },
    {
     "name": "stdout",
     "output_type": "stream",
     "text": [
      "\n",
      "추천 기업 리스트:\n",
      "                                기업이름      산업군                   장점키워드   평점\n",
      "77                  Kolon Industries  Finance   ['성장기회', '연봉', '안정성']  4.5\n",
      "67             Hyundai Mipo Dockyard   Retail    ['연봉', '워라벨', '안정성']  4.4\n",
      "54                    POSCO Chemical       IT  ['안정성', '연봉', '수평적문화']  4.3\n",
      "91             SK Biopharmaceuticals       IT   ['성장기회', '연봉', '안정성']  4.3\n",
      "25  Korea Electric Power Corporation       IT  ['연봉', '안정성', '수평적문화']  4.1\n",
      "87          Hyundai Department Store   Retail   ['안정성', '연봉', '성장기회']  4.0\n",
      "22                              KT&G   Retail   ['성장기회', '연봉', '안정성']  3.9\n",
      "71                 Daelim Industrial   Pharma   ['성장기회', '안정성', '연봉']  3.7\n",
      "7                          Celltrion  Finance     ['연봉', '안정성', '복지']  3.5\n",
      "23                  Hanwha Solutions   Pharma    ['워라벨', '안정성', '연봉']  3.3\n"
     ]
    }
   ],
   "source": [
    "import pandas as pd\n",
    "\n",
    "# 데이터 로드\n",
    "file_path = r\"C:\\Users\\hyun0\\Downloads\\기업_추천_데이터셋.csv\"  # 데이터셋 파일 경로\n",
    "df = pd.read_csv(file_path, encoding=\"utf-8-sig\")\n",
    "\n",
    "# 장점 키워드 입력 받기\n",
    "print(\"기업 추천 프로그램입니다.\")\n",
    "keyword1 = input(\"첫 번째 장점 키워드를 입력하세요 (예: 안정성): \").strip()\n",
    "keyword2 = input(\"두 번째 장점 키워드를 입력하세요 (예: 복지): \").strip()\n",
    "\n",
    "# 필터링: 입력된 키워드가 포함된 기업 검색\n",
    "df[\"키워드 일치 수\"] = df[\"장점키워드\"].apply(\n",
    "    lambda x: sum(kw in x for kw in [keyword1, keyword2])\n",
    ")\n",
    "\n",
    "# 일치하는 키워드 수를 기준으로 필터링하고 평점순으로 정렬\n",
    "filtered_df = df[df[\"키워드 일치 수\"] > 0].sort_values(by=[\"키워드 일치 수\", \"평점\"], ascending=[False, False])\n",
    "\n",
    "# 최대 10개 기업 추천\n",
    "top_companies = filtered_df.head(10)\n",
    "\n",
    "# 결과 출력\n",
    "if not top_companies.empty:\n",
    "    print(\"\\n추천 기업 리스트:\")\n",
    "    print(top_companies[[\"기업이름\", \"산업군\", \"장점키워드\", \"평점\"]])\n",
    "else:\n",
    "    print(\"\\n일치하는 기업이 없습니다. 키워드를 다시 입력해 주세요.\")\n"
   ]
  },
  {
   "cell_type": "code",
   "execution_count": null,
   "id": "a2eb4634-5444-4a78-8e68-264e2668d47b",
   "metadata": {},
   "outputs": [],
   "source": []
  }
 ],
 "metadata": {
  "kernelspec": {
   "display_name": "Python 3 (ipykernel)",
   "language": "python",
   "name": "python3"
  },
  "language_info": {
   "codemirror_mode": {
    "name": "ipython",
    "version": 3
   },
   "file_extension": ".py",
   "mimetype": "text/x-python",
   "name": "python",
   "nbconvert_exporter": "python",
   "pygments_lexer": "ipython3",
   "version": "3.12.7"
  }
 },
 "nbformat": 4,
 "nbformat_minor": 5
}
