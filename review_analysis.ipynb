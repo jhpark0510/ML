{
 "cells": [
  {
   "cell_type": "code",
   "execution_count": 8,
   "id": "3feb05ec",
   "metadata": {},
   "outputs": [
    {
     "name": "stdout",
     "output_type": "stream",
     "text": [
      "Requirement already satisfied: pandas in c:\\users\\sbmoon\\anaconda3\\lib\\site-packages (1.2.4)\n",
      "Requirement already satisfied: scikit-learn in c:\\users\\sbmoon\\anaconda3\\lib\\site-packages (1.1.2)\n",
      "Requirement already satisfied: matplotlib in c:\\users\\sbmoon\\anaconda3\\lib\\site-packages (3.3.4)\n",
      "Requirement already satisfied: seaborn in c:\\users\\sbmoon\\anaconda3\\lib\\site-packages (0.11.1)\n",
      "Requirement already satisfied: openpyxl in c:\\users\\sbmoon\\anaconda3\\lib\\site-packages (3.0.7)\n",
      "Requirement already satisfied: soynlp in c:\\users\\sbmoon\\anaconda3\\lib\\site-packages (0.0.493)\n",
      "Requirement already satisfied: python-dateutil>=2.7.3 in c:\\users\\sbmoon\\anaconda3\\lib\\site-packages (from pandas) (2.8.1)\n",
      "Requirement already satisfied: numpy>=1.16.5 in c:\\users\\sbmoon\\anaconda3\\lib\\site-packages (from pandas) (1.20.1)\n",
      "Requirement already satisfied: pytz>=2017.3 in c:\\users\\sbmoon\\anaconda3\\lib\\site-packages (from pandas) (2021.1)\n",
      "Requirement already satisfied: joblib>=1.0.0 in c:\\users\\sbmoon\\anaconda3\\lib\\site-packages (from scikit-learn) (1.0.1)\n",
      "Requirement already satisfied: scipy>=1.3.2 in c:\\users\\sbmoon\\anaconda3\\lib\\site-packages (from scikit-learn) (1.6.2)\n",
      "Requirement already satisfied: threadpoolctl>=2.0.0 in c:\\users\\sbmoon\\anaconda3\\lib\\site-packages (from scikit-learn) (2.1.0)\n",
      "Requirement already satisfied: cycler>=0.10 in c:\\users\\sbmoon\\anaconda3\\lib\\site-packages (from matplotlib) (0.10.0)\n",
      "Requirement already satisfied: pyparsing!=2.0.4,!=2.1.2,!=2.1.6,>=2.0.3 in c:\\users\\sbmoon\\anaconda3\\lib\\site-packages (from matplotlib) (2.4.7)\n",
      "Requirement already satisfied: pillow>=6.2.0 in c:\\users\\sbmoon\\anaconda3\\lib\\site-packages (from matplotlib) (8.2.0)\n",
      "Requirement already satisfied: kiwisolver>=1.0.1 in c:\\users\\sbmoon\\anaconda3\\lib\\site-packages (from matplotlib) (1.3.1)\n",
      "Requirement already satisfied: et-xmlfile in c:\\users\\sbmoon\\anaconda3\\lib\\site-packages (from openpyxl) (1.0.1)\n",
      "Requirement already satisfied: psutil>=5.0.1 in c:\\users\\sbmoon\\anaconda3\\lib\\site-packages (from soynlp) (5.8.0)\n",
      "Requirement already satisfied: six in c:\\users\\sbmoon\\anaconda3\\lib\\site-packages (from cycler>=0.10->matplotlib) (1.15.0)\n"
     ]
    },
    {
     "name": "stderr",
     "output_type": "stream",
     "text": [
      "\n",
      "[notice] A new release of pip available: 22.3.1 -> 24.3.1\n",
      "[notice] To update, run: python.exe -m pip install --upgrade pip\n"
     ]
    },
    {
     "name": "stdout",
     "output_type": "stream",
     "text": [
      "Classification Report:\n",
      "              precision    recall  f1-score   support\n",
      "\n",
      "           0       0.64      0.94      0.76       152\n",
      "           1       0.67      0.18      0.29        98\n",
      "\n",
      "    accuracy                           0.64       250\n",
      "   macro avg       0.65      0.56      0.53       250\n",
      "weighted avg       0.65      0.64      0.58       250\n",
      "\n",
      "\n",
      "Accuracy Score: 0.644\n"
     ]
    },
    {
     "name": "stderr",
     "output_type": "stream",
     "text": [
      "C:\\Users\\sbmoon\\anaconda3\\lib\\site-packages\\matplotlib\\backends\\backend_agg.py:238: RuntimeWarning: Glyph 51204 missing from current font.\n",
      "  font.set_text(s, 0.0, flags=flags)\n",
      "C:\\Users\\sbmoon\\anaconda3\\lib\\site-packages\\matplotlib\\backends\\backend_agg.py:238: RuntimeWarning: Glyph 51649 missing from current font.\n",
      "  font.set_text(s, 0.0, flags=flags)\n",
      "C:\\Users\\sbmoon\\anaconda3\\lib\\site-packages\\matplotlib\\backends\\backend_agg.py:238: RuntimeWarning: Glyph 50896 missing from current font.\n",
      "  font.set_text(s, 0.0, flags=flags)\n",
      "C:\\Users\\sbmoon\\anaconda3\\lib\\site-packages\\matplotlib\\backends\\backend_agg.py:238: RuntimeWarning: Glyph 54788 missing from current font.\n",
      "  font.set_text(s, 0.0, flags=flags)\n",
      "C:\\Users\\sbmoon\\anaconda3\\lib\\site-packages\\matplotlib\\backends\\backend_agg.py:201: RuntimeWarning: Glyph 51204 missing from current font.\n",
      "  font.set_text(s, 0, flags=flags)\n",
      "C:\\Users\\sbmoon\\anaconda3\\lib\\site-packages\\matplotlib\\backends\\backend_agg.py:201: RuntimeWarning: Glyph 51649 missing from current font.\n",
      "  font.set_text(s, 0, flags=flags)\n",
      "C:\\Users\\sbmoon\\anaconda3\\lib\\site-packages\\matplotlib\\backends\\backend_agg.py:201: RuntimeWarning: Glyph 50896 missing from current font.\n",
      "  font.set_text(s, 0, flags=flags)\n",
      "C:\\Users\\sbmoon\\anaconda3\\lib\\site-packages\\matplotlib\\backends\\backend_agg.py:201: RuntimeWarning: Glyph 54788 missing from current font.\n",
      "  font.set_text(s, 0, flags=flags)\n"
     ]
    },
    {
     "data": {
      "image/png": "[encoded data removed]",
      "text/plain": [
       "<Figure size 432x288 with 2 Axes>"
      ]
     },
     "metadata": {
      "needs_background": "light"
     },
     "output_type": "display_data"
    },
    {
     "name": "stdout",
     "output_type": "stream",
     "text": [
      "\n",
      "Top Positive Features:\n",
      "     Feature  Coefficient\n",
      "2956     워라밸     1.623088\n",
      "689       급여     1.190700\n",
      "2965    워라밸이     1.128670\n",
      "2968     워라벨     1.055441\n",
      "1388      많이     0.925068\n",
      "2569      않음     0.919312\n",
      "2805     연봉이     0.834818\n",
      "1142   대체적으로     0.833994\n",
      "2144     서울역     0.797936\n",
      "4707      휴가     0.776482\n"
     ]
    }
   ],
   "source": [
    "!pip install pandas scikit-learn matplotlib seaborn openpyxl soynlp\n",
    "\n",
    "import pandas as pd\n",
    "from sklearn.model_selection import train_test_split\n",
    "from sklearn.feature_extraction.text import TfidfVectorizer\n",
    "from sklearn.linear_model import LogisticRegression\n",
    "from sklearn.metrics import classification_report, accuracy_score, confusion_matrix\n",
    "import seaborn as sns\n",
    "import matplotlib.pyplot as plt\n",
    "from soynlp.tokenizer import LTokenizer\n",
    "\n",
    "# Step 1: Load and preprocess data\n",
    "file_path = r\"C:\\Users\\sbmoon\\Desktop\\Untitled Folder\\dataset.xlsx\"  \n",
    "df = pd.read_excel(file_path)\n",
    "\n",
    "# Ensure data integrity\n",
    "df.dropna(subset=['status', 'advantage'], inplace=True)  # Remove rows with missing values\n",
    "\n",
    "# Encode status: 전직원 (former) -> 0, 현직원 (current) -> 1\n",
    "df['status_encoded'] = df['status'].map({'전직원': 0, '현직원': 1})\n",
    "\n",
    "# Step 2: Tokenization using SoyNLP\n",
    "# Initialize LTokenizer (lightweight tokenizer)\n",
    "tokenizer = LTokenizer()\n",
    "\n",
    "def tokenize_korean(text):\n",
    "    tokens = tokenizer.tokenize(text)\n",
    "    return \" \".join(tokens)\n",
    "\n",
    "df['tokenized_advantage'] = df['advantage'].apply(tokenize_korean)\n",
    "\n",
    "# Step 3: Split data into train and test sets\n",
    "X = df['tokenized_advantage']\n",
    "y = df['status_encoded']\n",
    "X_train, X_test, y_train, y_test = train_test_split(X, y, test_size=0.2, random_state=42, stratify=y)\n",
    "\n",
    "# Step 4: Text vectorization using TF-IDF\n",
    "tfidf = TfidfVectorizer(max_features=5000)  # No stop-words for Korean; handle all tokens\n",
    "X_train_tfidf = tfidf.fit_transform(X_train)\n",
    "X_test_tfidf = tfidf.transform(X_test)\n",
    "\n",
    "# Step 5: Train a Logistic Regression classifier\n",
    "model = LogisticRegression(random_state=42, max_iter=10000)\n",
    "model.fit(X_train_tfidf, y_train)\n",
    "\n",
    "# Step 6: Evaluate the model\n",
    "y_pred = model.predict(X_test_tfidf)\n",
    "\n",
    "print(\"Classification Report:\")\n",
    "print(classification_report(y_test, y_pred))\n",
    "\n",
    "print(\"\\nAccuracy Score:\", accuracy_score(y_test, y_pred))\n",
    "\n",
    "# Confusion Matrix\n",
    "cm = confusion_matrix(y_test, y_pred)\n",
    "sns.heatmap(cm, annot=True, fmt='d', cmap='Blues', xticklabels=['전직원', '현직원'], yticklabels=['전직원', '현직원'])\n",
    "plt.xlabel('Predicted')\n",
    "plt.ylabel('Actual')\n",
    "plt.title('Confusion Matrix')\n",
    "plt.show()\n",
    "\n",
    "# Step 7: Analyze important features\n",
    "feature_names = tfidf.get_feature_names_out()\n",
    "coefficients = model.coef_[0]\n",
    "feature_importance = pd.DataFrame({'Feature': feature_names, 'Coefficient': coefficients})\n",
    "top_features = feature_importance.sort_values(by='Coefficient', ascending=False).head(10)\n",
    "\n",
    "print(\"\\nTop Positive Features:\")\n",
    "print(top_features)\n"
   ]
  },
  {
   "cell_type": "code",
   "execution_count": null,
   "id": "1330fb03",
   "metadata": {},
   "outputs": [],
   "source": []
  }
 ],
 "metadata": {
  "kernelspec": {
   "display_name": "Python 3",
   "language": "python",
   "name": "python3"
  },
  "language_info": {
   "codemirror_mode": {
    "name": "ipython",
    "version": 3
   },
   "file_extension": ".py",
   "mimetype": "text/x-python",
   "name": "python",
   "nbconvert_exporter": "python",
   "pygments_lexer": "ipython3",
   "version": "3.8.8"
  }
 },
 "nbformat": 4,
 "nbformat_minor": 5
}
