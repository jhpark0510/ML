{
 "cells": [
  {
   "cell_type": "code",
   "execution_count": 3,
   "metadata": {},
   "outputs": [
    {
     "name": "stdout",
     "output_type": "stream",
     "text": [
      "모델 정확도: 0.612\n"
     ]
    }
   ],
   "source": [
    "import pandas as pd\n",
    "from sklearn.model_selection import train_test_split\n",
    "from sklearn.feature_extraction.text import TfidfVectorizer\n",
    "from sklearn.linear_model import LogisticRegression\n",
    "from sklearn.metrics import accuracy_score\n",
    "\n",
    "# 데이터 로드\n",
    "file_path = \"C:\\\\Users\\\\jhpar\\\\Desktop\\\\머신러닝의 기초\\\\구현\\\\텍스트_데이터.xlsx\"\n",
    "data = pd.read_excel(file_path)\n",
    "\n",
    "# 1. 필요한 열만 추출\n",
    "data = data[['요약', '고용 현황']]\n",
    "data = data.dropna()  # 결측값 제거\n",
    "data['퇴사여부'] = data['고용 현황'].apply(lambda x: 1 if x == '전직원' else 0)  # 전직원: 1, 현직원: 0\n",
    "\n",
    "# 2. 텍스트 벡터화\n",
    "X = data['요약']\n",
    "y = data['퇴사여부']\n",
    "vectorizer = TfidfVectorizer(max_features=500)\n",
    "X = vectorizer.fit_transform(X)\n",
    "\n",
    "# 3. 데이터 분리\n",
    "X_train, X_test, y_train, y_test = train_test_split(X, y, test_size=0.2, random_state=42)\n",
    "\n",
    "# 4. 모델 훈련\n",
    "model = LogisticRegression()\n",
    "model.fit(X_train, y_train)\n",
    "\n",
    "# 5. 예측 및 정확도 평가\n",
    "y_pred = model.predict(X_test)\n",
    "accuracy = accuracy_score(y_test, y_pred)\n",
    "print(\"모델 정확도:\", accuracy)\n"
   ]
  },
  {
   "cell_type": "code",
   "execution_count": 4,
   "metadata": {},
   "outputs": [
    {
     "name": "stdout",
     "output_type": "stream",
     "text": [
      "Logistic Regression 정확도: 0.6120\n",
      "Random Forest 정확도: 0.5720\n",
      "SVM 정확도: 0.6040\n",
      "Naive Bayes 정확도: 0.6280\n"
     ]
    }
   ],
   "source": [
    "from sklearn.model_selection import train_test_split\n",
    "from sklearn.feature_extraction.text import TfidfVectorizer\n",
    "from sklearn.linear_model import LogisticRegression\n",
    "from sklearn.ensemble import RandomForestClassifier\n",
    "from sklearn.svm import SVC\n",
    "from sklearn.naive_bayes import MultinomialNB\n",
    "from sklearn.metrics import accuracy_score\n",
    "\n",
    "# 데이터 전처리\n",
    "data = data[['요약', '고용 현황']].dropna()\n",
    "data['퇴사여부'] = data['고용 현황'].apply(lambda x: 1 if x == '전직원' else 0)\n",
    "\n",
    "# 텍스트 벡터화\n",
    "X = data['요약']\n",
    "y = data['퇴사여부']\n",
    "vectorizer = TfidfVectorizer(max_features=500)\n",
    "X = vectorizer.fit_transform(X)\n",
    "\n",
    "# 데이터 분리\n",
    "X_train, X_test, y_train, y_test = train_test_split(X, y, test_size=0.2, random_state=42)\n",
    "\n",
    "# 모델 리스트\n",
    "models = {\n",
    "    \"Logistic Regression\": LogisticRegression(),\n",
    "    \"Random Forest\": RandomForestClassifier(),\n",
    "    \"SVM\": SVC(),\n",
    "    \"Naive Bayes\": MultinomialNB()\n",
    "}\n",
    "\n",
    "# 모델 성능 비교\n",
    "for model_name, model in models.items():\n",
    "    model.fit(X_train, y_train)\n",
    "    y_pred = model.predict(X_test)\n",
    "    accuracy = accuracy_score(y_test, y_pred)\n",
    "    print(f\"{model_name} 정확도: {accuracy:.4f}\")\n"
   ]
  },
  {
   "cell_type": "code",
   "execution_count": 5,
   "metadata": {},
   "outputs": [
    {
     "name": "stdout",
     "output_type": "stream",
     "text": [
      "모델 정확도: 0.612\n",
      "퇴사에 긍정적 영향을 미치는 단어들: [('좋았습니다', 0.8429102509758447), ('복지와', 0.846603504257779), ('같음', 0.8471754898484076), ('건물이', 0.8676054235260595), ('같습니다', 0.9052196445961774), ('복지포인트', 0.9103476299777947), ('다니기', 0.9781449091544405), ('사내', 1.0282160973256884), ('좋았고', 1.0499517259212958), ('높음', 1.0723773963374637)]\n",
      "퇴사에 부정적 영향을 미치는 단어들: [('없음', -1.4499370603671664), ('워라밸', -1.3263143388722956), ('대체적으로', -1.3215224610235983), ('따라', -1.1731464797889524), ('휴가사용', -1.1670882680790753), ('않다', -1.0530654343695445), ('연봉', -1.0205451100967475), ('워라밸은', -1.0095082704858411), ('안정성이', -1.0068819603446129), ('급여', -1.0045033623581543)]\n"
     ]
    }
   ],
   "source": [
    "from sklearn.model_selection import train_test_split\n",
    "from sklearn.feature_extraction.text import TfidfVectorizer\n",
    "from sklearn.linear_model import LogisticRegression\n",
    "from sklearn.metrics import accuracy_score\n",
    "import numpy as np\n",
    "\n",
    "# 1. 필요한 열만 추출\n",
    "data = data[['요약', '고용 현황']].dropna()\n",
    "data['퇴사여부'] = data['고용 현황'].apply(lambda x: 1 if x == '전직원' else 0)\n",
    "\n",
    "# 2. 텍스트 벡터화\n",
    "X = data['요약']\n",
    "y = data['퇴사여부']\n",
    "vectorizer = TfidfVectorizer(max_features=500)\n",
    "X = vectorizer.fit_transform(X)\n",
    "\n",
    "# 3. 데이터 분리\n",
    "X_train, X_test, y_train, y_test = train_test_split(X, y, test_size=0.2, random_state=42)\n",
    "\n",
    "# 4. 모델 훈련\n",
    "model = LogisticRegression()\n",
    "model.fit(X_train, y_train)\n",
    "\n",
    "# 5. 예측 및 정확도 평가\n",
    "y_pred = model.predict(X_test)\n",
    "accuracy = accuracy_score(y_test, y_pred)\n",
    "print(\"모델 정확도:\", accuracy)\n",
    "\n",
    "# 6. 각 단어의 가중치 확인 (추가 코드)\n",
    "feature_names = vectorizer.get_feature_names_out()\n",
    "coefficients = model.coef_.flatten()\n",
    "\n",
    "# 가중치가 높은 순으로 정렬하여 상위 10개 단어 추출\n",
    "top_positive_coefficients = np.argsort(coefficients)[-10:]  # 퇴사에 긍정적인 영향\n",
    "top_negative_coefficients = np.argsort(coefficients)[:10]   # 퇴사에 부정적인 영향\n",
    "\n",
    "# 상위 단어들 출력\n",
    "top_positive_words = [(feature_names[i], coefficients[i]) for i in top_positive_coefficients]\n",
    "top_negative_words = [(feature_names[i], coefficients[i]) for i in top_negative_coefficients]\n",
    "\n",
    "print(\"퇴사에 긍정적 영향을 미치는 단어들:\", top_positive_words)\n",
    "print(\"퇴사에 부정적 영향을 미치는 단어들:\", top_negative_words)\n"
   ]
  }
 ],
 "metadata": {
  "kernelspec": {
   "display_name": "base",
   "language": "python",
   "name": "python3"
  },
  "language_info": {
   "codemirror_mode": {
    "name": "ipython",
    "version": 3
   },
   "file_extension": ".py",
   "mimetype": "text/x-python",
   "name": "python",
   "nbconvert_exporter": "python",
   "pygments_lexer": "ipython3",
   "version": "3.12.4"
  }
 },
 "nbformat": 4,
 "nbformat_minor": 2
}
