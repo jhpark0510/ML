{
 "cells": [
  {
   "cell_type": "code",
   "execution_count": 3,
   "id": "5f5297a3",
   "metadata": {},
   "outputs": [
    {
     "name": "stdout",
     "output_type": "stream",
     "text": [
      "Requirement already satisfied: pandas in c:\\users\\sbmoon\\anaconda3\\lib\\site-packages (1.2.4)\n",
      "Requirement already satisfied: pytz>=2017.3 in c:\\users\\sbmoon\\anaconda3\\lib\\site-packages (from pandas) (2021.1)\n",
      "Requirement already satisfied: python-dateutil>=2.7.3 in c:\\users\\sbmoon\\anaconda3\\lib\\site-packages (from pandas) (2.8.1)\n",
      "Requirement already satisfied: numpy>=1.16.5 in c:\\users\\sbmoon\\anaconda3\\lib\\site-packages (from pandas) (1.20.1)\n",
      "Requirement already satisfied: six>=1.5 in c:\\users\\sbmoon\\anaconda3\\lib\\site-packages (from python-dateutil>=2.7.3->pandas) (1.15.0)\n",
      "   Company Status                                          Advantage\n",
      "0  삼성생명보험㈜      전         일하는 만큼 돈 벌기가 좋아요. 단기로 짧게 일하고 1500만원까지 벌었어요\n",
      "1  삼성생명보험㈜      전               큰회사 지역전문가제도 처럼 허울뿐이어도 실존하는 좋은 제도가 존재\n",
      "2  삼성생명보험㈜      현  ㅇ직무가 세분화되어있어서 특정 분야에서 많이 알수있음 ㅇ생보중에서는 좋은편 (연봉,...\n",
      "3  삼성생명보험㈜      전                   시간의 자유가 있고 새로운 분야에 대한 교육을 받을수있다.\n",
      "4  삼성생명보험㈜      현                    회사위치가 강남역과 붙어있어서 위치 편의가 굉장히 좋다.\n"
     ]
    },
    {
     "name": "stderr",
     "output_type": "stream",
     "text": [
      "\n",
      "[notice] A new release of pip available: 22.3.1 -> 24.3.1\n",
      "[notice] To update, run: python.exe -m pip install --upgrade pip\n"
     ]
    }
   ],
   "source": [
    "!pip install pandas\n",
    "\n",
    "import pandas as pd\n",
    "\n",
    "file_path = r\"C:\\Users\\sbmoon\\Desktop\\Untitled Folder\\dataset_insurance.xlsx\"\n",
    "\n",
    "df = pd.read_excel(file_path)\n",
    "\n",
    "print(df.head())"
   ]
  },
  {
   "cell_type": "code",
   "execution_count": 4,
   "id": "b4eb3f15",
   "metadata": {},
   "outputs": [
    {
     "name": "stderr",
     "output_type": "stream",
     "text": [
      "\n",
      "[notice] A new release of pip available: 22.3.1 -> 24.3.1\n",
      "[notice] To update, run: python.exe -m pip install --upgrade pip\n"
     ]
    },
    {
     "name": "stdout",
     "output_type": "stream",
     "text": [
      "Requirement already satisfied: pandas in c:\\users\\sbmoon\\anaconda3\\lib\\site-packages (1.2.4)\n",
      "Requirement already satisfied: scikit-learn in c:\\users\\sbmoon\\anaconda3\\lib\\site-packages (1.1.2)\n",
      "Requirement already satisfied: nltk in c:\\users\\sbmoon\\anaconda3\\lib\\site-packages (3.6.1)\n",
      "Requirement already satisfied: matplotlib in c:\\users\\sbmoon\\anaconda3\\lib\\site-packages (3.3.4)\n",
      "Requirement already satisfied: seaborn in c:\\users\\sbmoon\\anaconda3\\lib\\site-packages (0.11.1)\n",
      "Requirement already satisfied: pytz>=2017.3 in c:\\users\\sbmoon\\anaconda3\\lib\\site-packages (from pandas) (2021.1)\n",
      "Requirement already satisfied: python-dateutil>=2.7.3 in c:\\users\\sbmoon\\anaconda3\\lib\\site-packages (from pandas) (2.8.1)\n",
      "Requirement already satisfied: numpy>=1.16.5 in c:\\users\\sbmoon\\anaconda3\\lib\\site-packages (from pandas) (1.20.1)\n",
      "Requirement already satisfied: scipy>=1.3.2 in c:\\users\\sbmoon\\anaconda3\\lib\\site-packages (from scikit-learn) (1.6.2)\n",
      "Requirement already satisfied: joblib>=1.0.0 in c:\\users\\sbmoon\\anaconda3\\lib\\site-packages (from scikit-learn) (1.0.1)\n",
      "Requirement already satisfied: threadpoolctl>=2.0.0 in c:\\users\\sbmoon\\anaconda3\\lib\\site-packages (from scikit-learn) (2.1.0)\n",
      "Requirement already satisfied: regex in c:\\users\\sbmoon\\anaconda3\\lib\\site-packages (from nltk) (2021.4.4)\n",
      "Requirement already satisfied: click in c:\\users\\sbmoon\\anaconda3\\lib\\site-packages (from nltk) (7.1.2)\n",
      "Requirement already satisfied: tqdm in c:\\users\\sbmoon\\anaconda3\\lib\\site-packages (from nltk) (4.59.0)\n",
      "Requirement already satisfied: cycler>=0.10 in c:\\users\\sbmoon\\anaconda3\\lib\\site-packages (from matplotlib) (0.10.0)\n",
      "Requirement already satisfied: pyparsing!=2.0.4,!=2.1.2,!=2.1.6,>=2.0.3 in c:\\users\\sbmoon\\anaconda3\\lib\\site-packages (from matplotlib) (2.4.7)\n",
      "Requirement already satisfied: kiwisolver>=1.0.1 in c:\\users\\sbmoon\\anaconda3\\lib\\site-packages (from matplotlib) (1.3.1)\n",
      "Requirement already satisfied: pillow>=6.2.0 in c:\\users\\sbmoon\\anaconda3\\lib\\site-packages (from matplotlib) (8.2.0)\n",
      "Requirement already satisfied: six in c:\\users\\sbmoon\\anaconda3\\lib\\site-packages (from cycler>=0.10->matplotlib) (1.15.0)\n"
     ]
    },
    {
     "name": "stderr",
     "output_type": "stream",
     "text": [
      "[nltk_data] Downloading package punkt to\n",
      "[nltk_data]     C:\\Users\\sbmoon\\AppData\\Roaming\\nltk_data...\n",
      "[nltk_data]   Unzipping tokenizers\\punkt.zip.\n",
      "[nltk_data] Downloading package stopwords to\n",
      "[nltk_data]     C:\\Users\\sbmoon\\AppData\\Roaming\\nltk_data...\n",
      "[nltk_data]   Unzipping corpora\\stopwords.zip.\n"
     ]
    },
    {
     "data": {
      "text/plain": [
       "True"
      ]
     },
     "execution_count": 4,
     "metadata": {},
     "output_type": "execute_result"
    }
   ],
   "source": [
    "!pip install pandas scikit-learn nltk matplotlib seaborn\n",
    "\n",
    "import pandas as pd\n",
    "import numpy as np\n",
    "from sklearn.feature_extraction.text import TfidfVectorizer\n",
    "from sklearn.decomposition import LatentDirichletAllocation\n",
    "from sklearn.cluster import KMeans\n",
    "import seaborn as sns\n",
    "import matplotlib.pyplot as plt\n",
    "from nltk.corpus import stopwords\n",
    "from nltk.tokenize import word_tokenize\n",
    "import nltk\n",
    "\n",
    "# Download NLTK resources\n",
    "nltk.download('punkt')\n",
    "nltk.download('stopwords')"
   ]
  },
  {
   "cell_type": "code",
   "execution_count": 5,
   "id": "e3122ff7",
   "metadata": {},
   "outputs": [
    {
     "name": "stdout",
     "output_type": "stream",
     "text": [
      "   Company Status                                          Advantage\n",
      "0  삼성생명보험㈜      전         일하는 만큼 돈 벌기가 좋아요. 단기로 짧게 일하고 1500만원까지 벌었어요\n",
      "1  삼성생명보험㈜      전               큰회사 지역전문가제도 처럼 허울뿐이어도 실존하는 좋은 제도가 존재\n",
      "2  삼성생명보험㈜      현  ㅇ직무가 세분화되어있어서 특정 분야에서 많이 알수있음 ㅇ생보중에서는 좋은편 (연봉,...\n",
      "3  삼성생명보험㈜      전                   시간의 자유가 있고 새로운 분야에 대한 교육을 받을수있다.\n",
      "4  삼성생명보험㈜      현                    회사위치가 강남역과 붙어있어서 위치 편의가 굉장히 좋다.\n"
     ]
    }
   ],
   "source": [
    "file_path = r\"C:\\Users\\sbmoon\\Desktop\\Untitled Folder\\dataset_insurance.xlsx\"\n",
    "df = pd.read_excel(file_path)\n",
    "\n",
    "# Check the dataset\n",
    "print(df.head())"
   ]
  },
  {
   "cell_type": "code",
   "execution_count": 11,
   "id": "785f8697",
   "metadata": {},
   "outputs": [
    {
     "name": "stdout",
     "output_type": "stream",
     "text": [
      "   Company                                  cleaned_advantage\n",
      "0  삼성생명보험㈜        일하는 만큼 돈 벌기가 좋아요 . 단기로 짧게 일하고 1500만원까지 벌었어요\n",
      "1  삼성생명보험㈜               큰회사 지역전문가제도 처럼 허울뿐이어도 실존하는 좋은 제도가 존재\n",
      "2  삼성생명보험㈜  ㅇ직무가 세분화되어있어서 특정 분야에서 많이 알수있음 ㅇ생보중에서는 좋은편 ( 연봉...\n",
      "3  삼성생명보험㈜                  시간의 자유가 있고 새로운 분야에 대한 교육을 받을수있다 .\n",
      "4  삼성생명보험㈜                   회사위치가 강남역과 붙어있어서 위치 편의가 굉장히 좋다 .\n"
     ]
    }
   ],
   "source": [
    "# Example Korean stopwords list (expand as needed)\n",
    "korean_stopwords = set([\"이\", \"그\", \"저\", \"은\", \"는\", \"이\", \"가\", \"을\", \"를\", \"의\", \"에\", \"와\", \"과\", \"도\", \"으로\", \"에서\"])\n",
    "\n",
    "# Update the preprocessing function\n",
    "def preprocess_text(text):\n",
    "    if not isinstance(text, str):\n",
    "        return \"\"\n",
    "    # Tokenize\n",
    "    tokens = word_tokenize(text)\n",
    "    # Remove stopwords\n",
    "    tokens = [word for word in tokens if word not in korean_stopwords]\n",
    "    # Join tokens back into a string\n",
    "    return \" \".join(tokens)\n",
    "\n",
    "# Apply preprocessing\n",
    "df['cleaned_advantage'] = df['Advantage'].apply(preprocess_text)\n",
    "\n",
    "# Check processed data\n",
    "print(df[['Company', 'cleaned_advantage']].head())\n"
   ]
  },
  {
   "cell_type": "code",
   "execution_count": 15,
   "id": "1b844a73",
   "metadata": {},
   "outputs": [
    {
     "name": "stdout",
     "output_type": "stream",
     "text": [
      "TF-IDF matrix shape: (10, 500)\n"
     ]
    }
   ],
   "source": [
    "# Group reviews by company\n",
    "company_reviews = df.groupby('Company')['cleaned_advantage'].apply(lambda x: \" \".join(x)).reset_index()\n",
    "\n",
    "# TF-IDF vectorization\n",
    "tfidf_vectorizer = TfidfVectorizer(max_features=500, ngram_range=(1, 2))\n",
    "tfidf_matrix = tfidf_vectorizer.fit_transform(company_reviews['cleaned_advantage'])\n",
    "\n",
    "print(f\"TF-IDF matrix shape: {tfidf_matrix.shape}\")"
   ]
  },
  {
   "cell_type": "code",
   "execution_count": 17,
   "id": "f9eaa6ca",
   "metadata": {},
   "outputs": [
    {
     "name": "stdout",
     "output_type": "stream",
     "text": [
      "Topic 0:\n",
      "좋다, 있음, 높은, 좋음, 많이, 급여, 좋아요, 회사, 복지, 연봉\n",
      "Topic 1:\n",
      "때문에, 분위기, 광화문역, 시스템이, 여성, 대외적인, 있음, 없다, 있습니다, 좋고\n",
      "Topic 2:\n",
      "워라밸이, 복지가, 안정적이고, 있다, 있음, 점점, 사람들이, 있는, 좋은, 좋음\n"
     ]
    }
   ],
   "source": [
    "# LDA for topic modeling\n",
    "lda = LatentDirichletAllocation(n_components=3, random_state=42)  # 3 topics\n",
    "lda.fit(tfidf_matrix)\n",
    "\n",
    "# Display topics\n",
    "feature_names = tfidf_vectorizer.get_feature_names_out()\n",
    "for topic_idx, topic in enumerate(lda.components_):\n",
    "    print(f\"Topic {topic_idx}:\")\n",
    "    print(\", \".join([feature_names[i] for i in topic.argsort()[-10:]]))"
   ]
  },
  {
   "cell_type": "code",
   "execution_count": 19,
   "id": "9ad802f2",
   "metadata": {},
   "outputs": [
    {
     "name": "stdout",
     "output_type": "stream",
     "text": [
      "       Company  cluster\n",
      "0      DB손해보험㈜        1\n",
      "1      교보생명보험㈜        1\n",
      "2     라이나생명보험㈜        0\n",
      "3   메리츠화재해상보험㈜        2\n",
      "4      삼성생명보험㈜        0\n",
      "5    삼성화재해상보험㈜        0\n",
      "6      서울보증보험㈜        0\n",
      "7  케이비라이프생명보험㈜        1\n",
      "8      한화생명보험㈜        0\n",
      "9    현대해상화재보험㈜        0\n"
     ]
    }
   ],
   "source": [
    "# KMeans clustering\n",
    "kmeans = KMeans(n_clusters=3, random_state=42)  # 3 clusters\n",
    "kmeans.fit(tfidf_matrix)\n",
    "\n",
    "# Assign clusters to companies\n",
    "company_reviews['cluster'] = kmeans.labels_\n",
    "\n",
    "# Display results\n",
    "print(company_reviews[['Company', 'cluster']])"
   ]
  },
  {
   "cell_type": "code",
   "execution_count": 20,
   "id": "60573f20",
   "metadata": {},
   "outputs": [
    {
     "data": {
      "image/png": "[encoded data removed]",
      "text/plain": [
       "<Figure size 720x576 with 1 Axes>"
      ]
     },
     "metadata": {
      "needs_background": "light"
     },
     "output_type": "display_data"
    }
   ],
   "source": [
    "# Reduce dimensions using PCA for visualization\n",
    "from sklearn.decomposition import PCA\n",
    "\n",
    "pca = PCA(n_components=2)\n",
    "reduced_matrix = pca.fit_transform(tfidf_matrix.toarray())\n",
    "\n",
    "# Plot clusters\n",
    "plt.figure(figsize=(10, 8))\n",
    "sns.scatterplot(\n",
    "    x=reduced_matrix[:, 0],\n",
    "    y=reduced_matrix[:, 1],\n",
    "    hue=company_reviews['cluster'],\n",
    "    palette=\"viridis\",\n",
    "    s=100\n",
    ")\n",
    "plt.title(\"Company Clustering Based on Reviews\")\n",
    "plt.xlabel(\"PCA Component 1\")\n",
    "plt.ylabel(\"PCA Component 2\")\n",
    "plt.legend(title=\"Cluster\")\n",
    "plt.show()"
   ]
  },
  {
   "cell_type": "code",
   "execution_count": null,
   "id": "22b15d01",
   "metadata": {},
   "outputs": [],
   "source": []
  }
 ],
 "metadata": {
  "kernelspec": {
   "display_name": "Python 3",
   "language": "python",
   "name": "python3"
  },
  "language_info": {
   "codemirror_mode": {
    "name": "ipython",
    "version": 3
   },
   "file_extension": ".py",
   "mimetype": "text/x-python",
   "name": "python",
   "nbconvert_exporter": "python",
   "pygments_lexer": "ipython3",
   "version": "3.8.8"
  }
 },
 "nbformat": 4,
 "nbformat_minor": 5
}
