{
 "cells": [
  {
   "cell_type": "code",
   "execution_count": 1,
   "id": "12cea772",
   "metadata": {},
   "outputs": [
    {
     "name": "stdout",
     "output_type": "stream",
     "text": [
      "             회사명   추천점수\n",
      "11        신용보증기금  4.155\n",
      "4         중소기업은행  4.020\n",
      "6          국민은행㈜  3.960\n",
      "5         국민연금공단  3.945\n",
      "0       국민건강보험공단  3.920\n",
      "2          농협은행㈜  3.825\n",
      "9          ㈜신한은행  3.535\n",
      "15     삼성화재해상보험㈜  3.525\n",
      "7         현대캐피탈㈜  3.510\n",
      "10         ㈜우리은행  3.490\n",
      "3          현대카드㈜  3.305\n",
      "13  한국스탠다드차타드은행㈜  3.220\n",
      "12       한화생명보험㈜  3.215\n",
      "8        삼성생명보험㈜  3.145\n",
      "14       DB손해보험㈜  3.130\n",
      "17    메리츠화재해상보험㈜  2.985\n",
      "1          새마을금고  2.660\n",
      "16       웰컴저축은행㈜  2.370\n"
     ]
    }
   ],
   "source": [
    "import pandas as pd\n",
    "\n",
    "# 회사명과 항목에 대한 점수 데이터\n",
    "data = {\n",
    "    \"회사명\": [\"국민건강보험공단\", \"새마을금고\", \"농협은행㈜\", \"현대카드㈜\", \"중소기업은행\", \n",
    "             \"국민연금공단\", \"국민은행㈜\", \"현대캐피탈㈜\", \"삼성생명보험㈜\", \"㈜신한은행\", \n",
    "             \"㈜우리은행\", \"신용보증기금\", \"한화생명보험㈜\", \"한국스탠다드차타드은행㈜\", \n",
    "             \"DB손해보험㈜\", \"삼성화재해상보험㈜\", \"웰컴저축은행㈜\", \"메리츠화재해상보험㈜\"],\n",
    "    \"복지 및 급여\": [3.3, 2.6, 3.9, 3.3, 4, 3.3, 4.2, 3.6, 3.3, 3.9, 3.8, 4.1, 3.2, 3, 3.4, 3.8, 2.4, 3],\n",
    "    \"업무와 삶의 균형\": [4.4, 2.9, 3.7, 3.1, 3.8, 4.5, 3.5, 3.3, 2.7, 2.9, 3, 4, 3.1, 3.3, 2.6, 2.9, 2.1, 2.8],\n",
    "    \"사내문화\": [4.1, 1.9, 3.1, 3.2, 3.6, 4.1, 3.3, 3.2, 2.8, 2.8, 2.7, 3.7, 2.8, 3.1, 2.5, 3.1, 2, 2.6],\n",
    "    \"승진 기회 및 가능성\": [3.4, 2.3, 3.1, 2.4, 3.5, 3.4, 3.2, 2.1, 2.8, 3.1, 3.1, 3.6, 2.9, 2.8, 2.9, 3, 2.7, 2.6],\n",
    "    \"경영진\": [3.3, 1.8, 2.9, 2.5, 3.3, 3.2, 3.1, 2.7, 2.5, 2.8, 2.6, 3.4, 2.4, 2.5, 2.6, 2.8, 2.1, 2.5]\n",
    "}\n",
    "\n",
    "# DataFrame으로 변환\n",
    "df = pd.DataFrame(data)\n",
    "\n",
    "# 사용자 입력 가중치 (각 항목에 대한 중요도)\n",
    "weights = {\n",
    "    \"복지 및 급여\": 0.50,\n",
    "    \"업무와 삶의 균형\": 0.30,\n",
    "    \"사내문화\": 0.15,\n",
    "    \"승진 기회 및 가능성\": 0.05,\n",
    "    \"경영진\": 0.05\n",
    "}\n",
    "\n",
    "# 점수 계산 함수\n",
    "def calculate_score(row, weights):\n",
    "    score = 0\n",
    "    for col in weights:\n",
    "        score += row[col] * weights[col]\n",
    "    return score\n",
    "\n",
    "# 각 회사의 가중합 점수 계산\n",
    "df['추천점수'] = df.apply(calculate_score, axis=1, weights=weights)\n",
    "\n",
    "# 추천 점수 내림차순 정렬\n",
    "recommended_companies = df[['회사명', '추천점수']].sort_values(by='추천점수', ascending=False)\n",
    "\n",
    "# 추천된 회사 리스트 출력\n",
    "print(recommended_companies)\n"
   ]
  },
  {
   "cell_type": "code",
   "execution_count": null,
   "id": "361b2b3c",
   "metadata": {},
   "outputs": [],
   "source": []
  }
 ],
 "metadata": {
  "kernelspec": {
   "display_name": "Python 3 (ipykernel)",
   "language": "python",
   "name": "python3"
  },
  "language_info": {
   "codemirror_mode": {
    "name": "ipython",
    "version": 3
   },
   "file_extension": ".py",
   "mimetype": "text/x-python",
   "name": "python",
   "nbconvert_exporter": "python",
   "pygments_lexer": "ipython3",
   "version": "3.11.4"
  }
 },
 "nbformat": 4,
 "nbformat_minor": 5
}
